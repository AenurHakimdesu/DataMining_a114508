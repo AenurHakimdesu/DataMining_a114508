{
 "cells": [
  {
   "cell_type": "code",
   "execution_count": 1,
   "id": "d83ac1ea-50f6-4b4a-8047-1a498fc12cb5",
   "metadata": {},
   "outputs": [],
   "source": [
    "import numpy as np\n",
    "import matplotlib.pyplot as plt\n",
    "import pandas as pd"
   ]
  },
  {
   "cell_type": "code",
   "execution_count": 2,
   "id": "3e0c5363-a535-41fd-ab2e-ec30714e0200",
   "metadata": {},
   "outputs": [],
   "source": [
    "dataset = pd.read_csv('DataGajiJateng.csv')\n",
    "X = dataset.iloc[:, :-1].values\n",
    "y = dataset.iloc[:, -1].values"
   ]
  },
  {
   "cell_type": "code",
   "execution_count": 3,
   "id": "55c9ab4a-f3d2-4404-a77f-453cf44369d3",
   "metadata": {},
   "outputs": [
    {
     "name": "stdout",
     "output_type": "stream",
     "text": [
      "[['Semarang' 44.0 7200000.0]\n",
      " ['Pemalang' 48.0 4800000.0]\n",
      " ['Tegal' nan 5400000.0]\n",
      " ['Pemalang' 38.0 6100000.0]\n",
      " ['Tegal' 40.0 6400000.0]\n",
      " ['Semarang' 35.0 nan]\n",
      " ['Pemalang' 39.0 5200000.0]\n",
      " ['Semarang' 48.0 5500000.0]\n",
      " ['Tegal' 50.0 8300000.0]\n",
      " ['Semarang' 37.0 6700000.0]\n",
      " ['Pemalang' 40.0 4300000.0]\n",
      " ['Tegal' 38.0 nan]\n",
      " ['Semarang' 40.0 3400000.0]\n",
      " ['Pemalang' 34.0 nan]\n",
      " ['Semarang' nan 4900000.0]]\n"
     ]
    }
   ],
   "source": [
    "print(X)"
   ]
  },
  {
   "cell_type": "code",
   "execution_count": 4,
   "id": "2cfb7b84-5043-4ea2-8229-029e49211938",
   "metadata": {},
   "outputs": [
    {
     "name": "stdout",
     "output_type": "stream",
     "text": [
      "['Belum' 'Sudah' 'Belum' 'Belum' 'Sudah' 'Sudah' 'Belum' 'Sudah' 'Belum'\n",
      " 'Sudah' 'Sudah' 'Belum' 'Sudah' 'Sudah' 'Belum']\n"
     ]
    }
   ],
   "source": [
    "print(y)"
   ]
  },
  {
   "cell_type": "code",
   "execution_count": 5,
   "id": "e8a0e084-397f-4b3c-911c-1306f429ee28",
   "metadata": {},
   "outputs": [],
   "source": [
    "from sklearn.impute import SimpleImputer\n",
    "imputer = SimpleImputer(missing_values=np.nan, strategy='mean')\n",
    "imputer.fit(X[:, 1:3])\n",
    "X[:, 1:3] = imputer.transform(X[:, 1:3])"
   ]
  },
  {
   "cell_type": "code",
   "execution_count": 6,
   "id": "744dc3c3-42e4-46e4-9f2b-2fa9dc02134d",
   "metadata": {},
   "outputs": [
    {
     "name": "stdout",
     "output_type": "stream",
     "text": [
      "[['Semarang' 44.0 7200000.0]\n",
      " ['Pemalang' 48.0 4800000.0]\n",
      " ['Tegal' 40.84615384615385 5400000.0]\n",
      " ['Pemalang' 38.0 6100000.0]\n",
      " ['Tegal' 40.0 6400000.0]\n",
      " ['Semarang' 35.0 5683333.333333333]\n",
      " ['Pemalang' 39.0 5200000.0]\n",
      " ['Semarang' 48.0 5500000.0]\n",
      " ['Tegal' 50.0 8300000.0]\n",
      " ['Semarang' 37.0 6700000.0]\n",
      " ['Pemalang' 40.0 4300000.0]\n",
      " ['Tegal' 38.0 5683333.333333333]\n",
      " ['Semarang' 40.0 3400000.0]\n",
      " ['Pemalang' 34.0 5683333.333333333]\n",
      " ['Semarang' 40.84615384615385 4900000.0]]\n"
     ]
    }
   ],
   "source": [
    "print(X)"
   ]
  },
  {
   "cell_type": "code",
   "execution_count": 7,
   "id": "df022fb0-033e-4119-9f06-af913c9d0a15",
   "metadata": {},
   "outputs": [],
   "source": [
    "from sklearn.compose import ColumnTransformer\n",
    "from sklearn.preprocessing import OneHotEncoder\n",
    "ct = ColumnTransformer(transformers=[('encoder', OneHotEncoder(), [0])], remainder='passthrough')\n",
    "X = np.array(ct.fit_transform(X))"
   ]
  },
  {
   "cell_type": "code",
   "execution_count": 8,
   "id": "1c008a2e-3b45-4d22-820e-f251ff29acd6",
   "metadata": {},
   "outputs": [
    {
     "name": "stdout",
     "output_type": "stream",
     "text": [
      "[[0.0 1.0 0.0 44.0 7200000.0]\n",
      " [1.0 0.0 0.0 48.0 4800000.0]\n",
      " [0.0 0.0 1.0 40.84615384615385 5400000.0]\n",
      " [1.0 0.0 0.0 38.0 6100000.0]\n",
      " [0.0 0.0 1.0 40.0 6400000.0]\n",
      " [0.0 1.0 0.0 35.0 5683333.333333333]\n",
      " [1.0 0.0 0.0 39.0 5200000.0]\n",
      " [0.0 1.0 0.0 48.0 5500000.0]\n",
      " [0.0 0.0 1.0 50.0 8300000.0]\n",
      " [0.0 1.0 0.0 37.0 6700000.0]\n",
      " [1.0 0.0 0.0 40.0 4300000.0]\n",
      " [0.0 0.0 1.0 38.0 5683333.333333333]\n",
      " [0.0 1.0 0.0 40.0 3400000.0]\n",
      " [1.0 0.0 0.0 34.0 5683333.333333333]\n",
      " [0.0 1.0 0.0 40.84615384615385 4900000.0]]\n"
     ]
    }
   ],
   "source": [
    "print(X)"
   ]
  },
  {
   "cell_type": "code",
   "execution_count": 9,
   "id": "8f0789c8-0d66-44d7-9875-5a5b8387f57d",
   "metadata": {},
   "outputs": [],
   "source": [
    "from sklearn.preprocessing import LabelEncoder\n",
    "le = LabelEncoder()\n",
    "y = le.fit_transform(y)"
   ]
  },
  {
   "cell_type": "code",
   "execution_count": 10,
   "id": "4bf58d94-7bdc-4159-b057-7cae48680b73",
   "metadata": {},
   "outputs": [
    {
     "name": "stdout",
     "output_type": "stream",
     "text": [
      "[0 1 0 0 1 1 0 1 0 1 1 0 1 1 0]\n"
     ]
    }
   ],
   "source": [
    "print(y)"
   ]
  },
  {
   "cell_type": "code",
   "execution_count": 11,
   "id": "af230cd1-d9c0-4c0b-b150-63628e92d169",
   "metadata": {},
   "outputs": [],
   "source": [
    "from sklearn.model_selection import train_test_split\n",
    "X_train, X_test, y_train, y_test = train_test_split(X, y, test_size = 0.2, random_state = 1)"
   ]
  },
  {
   "cell_type": "code",
   "execution_count": 12,
   "id": "d458d7a7-a9fa-40c3-865e-b0bcb641e3fc",
   "metadata": {},
   "outputs": [
    {
     "name": "stdout",
     "output_type": "stream",
     "text": [
      "[[0.0 0.0 1.0 40.84615384615385 5400000.0]\n",
      " [1.0 0.0 0.0 40.0 4300000.0]\n",
      " [0.0 0.0 1.0 40.0 6400000.0]\n",
      " [1.0 0.0 0.0 48.0 4800000.0]\n",
      " [1.0 0.0 0.0 34.0 5683333.333333333]\n",
      " [0.0 1.0 0.0 44.0 7200000.0]\n",
      " [0.0 1.0 0.0 40.84615384615385 4900000.0]\n",
      " [0.0 1.0 0.0 37.0 6700000.0]\n",
      " [0.0 0.0 1.0 50.0 8300000.0]\n",
      " [0.0 1.0 0.0 40.0 3400000.0]\n",
      " [0.0 0.0 1.0 38.0 5683333.333333333]\n",
      " [0.0 1.0 0.0 35.0 5683333.333333333]]\n"
     ]
    }
   ],
   "source": [
    "print(X_train)"
   ]
  },
  {
   "cell_type": "code",
   "execution_count": 13,
   "id": "223a398b-5ee8-4188-bdd3-3003de8e4f46",
   "metadata": {},
   "outputs": [
    {
     "name": "stdout",
     "output_type": "stream",
     "text": [
      "[[1.0 0.0 0.0 38.0 6100000.0]\n",
      " [0.0 1.0 0.0 48.0 5500000.0]\n",
      " [1.0 0.0 0.0 39.0 5200000.0]]\n"
     ]
    }
   ],
   "source": [
    "print(X_test)"
   ]
  },
  {
   "cell_type": "code",
   "execution_count": 14,
   "id": "5a7cdddc-cd65-471e-80cf-d2dd4fd7e5bc",
   "metadata": {},
   "outputs": [
    {
     "name": "stdout",
     "output_type": "stream",
     "text": [
      "[0 1 1 1 1 0 0 1 0 1 0 1]\n"
     ]
    }
   ],
   "source": [
    "print(y_train)"
   ]
  },
  {
   "cell_type": "code",
   "execution_count": 15,
   "id": "ad447b11-4036-4319-aded-fe0da1bf074f",
   "metadata": {},
   "outputs": [
    {
     "name": "stdout",
     "output_type": "stream",
     "text": [
      "[0 1 0]\n"
     ]
    }
   ],
   "source": [
    "print(y_test)"
   ]
  },
  {
   "cell_type": "code",
   "execution_count": 16,
   "id": "117962d4-eef0-4ad7-9f72-6c3e1b7b9b18",
   "metadata": {},
   "outputs": [],
   "source": [
    "from sklearn.preprocessing import StandardScaler\n",
    "sc = StandardScaler()\n",
    "X_train[:, 3:] = sc.fit_transform(X_train[:, 3:])\n",
    "X_test[:, 3:] = sc.transform(X_test[:, 3:])"
   ]
  },
  {
   "cell_type": "code",
   "execution_count": 17,
   "id": "317d6c51-f00a-4ada-9f1a-8711e2c3331d",
   "metadata": {},
   "outputs": [
    {
     "name": "stdout",
     "output_type": "stream",
     "text": [
      "[[0.0 0.0 1.0 0.04489637563733442 -0.23989936151583452]\n",
      " [1.0 0.0 0.0 -0.14030117386667082 -1.1074806141210434]\n",
      " [0.0 0.0 1.0 -0.14030117386667082 0.5488108681252645]\n",
      " [1.0 0.0 0.0 1.6106574759893777 -0.713125499300494]\n",
      " [1.0 0.0 0.0 -1.4535201612587072 -0.016431463117523387]\n",
      " [0.0 1.0 0.0 0.7351781510613534 1.1797790518381437]\n",
      " [0.0 1.0 0.0 0.04489637563733442 -0.634254476336384]\n",
      " [0.0 1.0 0.0 -0.796910667562689 0.7854239370175942]\n",
      " [0.0 0.0 1.0 2.0483971384533897 2.0473603044433526]\n",
      " [0.0 1.0 0.0 -0.14030117386667082 -1.8173198207980326]\n",
      " [0.0 0.0 1.0 -0.5780408363306829 -0.016431463117523387]\n",
      " [0.0 1.0 0.0 -1.234650330026701 -0.016431463117523387]]\n"
     ]
    }
   ],
   "source": [
    "print(X_train)"
   ]
  },
  {
   "cell_type": "code",
   "execution_count": 18,
   "id": "9417f492-c5d4-4029-a9da-998871774f3d",
   "metadata": {},
   "outputs": [
    {
     "name": "stdout",
     "output_type": "stream",
     "text": [
      "[[1.0 0.0 0.0 -0.5780408363306829 0.3121977992329348]\n",
      " [0.0 1.0 0.0 1.6106574759893777 -0.16102833855172463]\n",
      " [1.0 0.0 0.0 -0.3591710050986769 -0.39764140744405435]]\n"
     ]
    }
   ],
   "source": [
    "print(X_test)"
   ]
  },
  {
   "cell_type": "code",
   "execution_count": null,
   "id": "24b94082-3340-4a2b-a1da-17114cebec2e",
   "metadata": {},
   "outputs": [],
   "source": []
  }
 ],
 "metadata": {
  "kernelspec": {
   "display_name": "Python 3 (ipykernel)",
   "language": "python",
   "name": "python3"
  },
  "language_info": {
   "codemirror_mode": {
    "name": "ipython",
    "version": 3
   },
   "file_extension": ".py",
   "mimetype": "text/x-python",
   "name": "python",
   "nbconvert_exporter": "python",
   "pygments_lexer": "ipython3",
   "version": "3.11.7"
  }
 },
 "nbformat": 4,
 "nbformat_minor": 5
}
