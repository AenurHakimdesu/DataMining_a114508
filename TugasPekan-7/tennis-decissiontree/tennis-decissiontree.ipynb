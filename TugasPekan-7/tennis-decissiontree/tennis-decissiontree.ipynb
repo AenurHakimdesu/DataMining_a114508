{
 "cells": [
  {
   "cell_type": "code",
   "execution_count": 1,
   "id": "c2d0149a-02f8-4bd2-bfe9-0d425065cab5",
   "metadata": {},
   "outputs": [],
   "source": [
    "import pandas as pd\n",
    "import math"
   ]
  },
  {
   "cell_type": "code",
   "execution_count": 2,
   "id": "779797de-86ff-43e9-94bd-c9b8773b3522",
   "metadata": {},
   "outputs": [
    {
     "data": {
      "text/html": [
       "<div>\n",
       "<style scoped>\n",
       "    .dataframe tbody tr th:only-of-type {\n",
       "        vertical-align: middle;\n",
       "    }\n",
       "\n",
       "    .dataframe tbody tr th {\n",
       "        vertical-align: top;\n",
       "    }\n",
       "\n",
       "    .dataframe thead th {\n",
       "        text-align: right;\n",
       "    }\n",
       "</style>\n",
       "<table border=\"1\" class=\"dataframe\">\n",
       "  <thead>\n",
       "    <tr style=\"text-align: right;\">\n",
       "      <th></th>\n",
       "      <th>outlook</th>\n",
       "      <th>temp</th>\n",
       "      <th>humidity</th>\n",
       "      <th>windy</th>\n",
       "      <th>play</th>\n",
       "    </tr>\n",
       "  </thead>\n",
       "  <tbody>\n",
       "    <tr>\n",
       "      <th>0</th>\n",
       "      <td>sunny</td>\n",
       "      <td>hot</td>\n",
       "      <td>high</td>\n",
       "      <td>False</td>\n",
       "      <td>no</td>\n",
       "    </tr>\n",
       "    <tr>\n",
       "      <th>1</th>\n",
       "      <td>sunny</td>\n",
       "      <td>hot</td>\n",
       "      <td>high</td>\n",
       "      <td>True</td>\n",
       "      <td>no</td>\n",
       "    </tr>\n",
       "    <tr>\n",
       "      <th>2</th>\n",
       "      <td>overcast</td>\n",
       "      <td>hot</td>\n",
       "      <td>high</td>\n",
       "      <td>False</td>\n",
       "      <td>yes</td>\n",
       "    </tr>\n",
       "    <tr>\n",
       "      <th>3</th>\n",
       "      <td>rainy</td>\n",
       "      <td>mild</td>\n",
       "      <td>high</td>\n",
       "      <td>False</td>\n",
       "      <td>yes</td>\n",
       "    </tr>\n",
       "    <tr>\n",
       "      <th>4</th>\n",
       "      <td>rainy</td>\n",
       "      <td>cool</td>\n",
       "      <td>normal</td>\n",
       "      <td>False</td>\n",
       "      <td>yes</td>\n",
       "    </tr>\n",
       "  </tbody>\n",
       "</table>\n",
       "</div>"
      ],
      "text/plain": [
       "    outlook  temp humidity  windy play\n",
       "0     sunny   hot     high  False   no\n",
       "1     sunny   hot     high   True   no\n",
       "2  overcast   hot     high  False  yes\n",
       "3     rainy  mild     high  False  yes\n",
       "4     rainy  cool   normal  False  yes"
      ]
     },
     "execution_count": 2,
     "metadata": {},
     "output_type": "execute_result"
    }
   ],
   "source": [
    "data = pd.read_csv('tennis.csv')\n",
    "data.head()"
   ]
  },
  {
   "cell_type": "code",
   "execution_count": 3,
   "id": "6ff03be0-0b39-4897-988d-6329313cdc15",
   "metadata": {},
   "outputs": [
    {
     "name": "stdout",
     "output_type": "stream",
     "text": [
      "Entropy (play): 0.9402859586706311\n"
     ]
    }
   ],
   "source": [
    "def entropy(data, target_column):\n",
    "    values, counts = data[target_column].value_counts().values, data[target_column].value_counts().index\n",
    "    entropy_val = -sum((count/len(data)) * math.log2(count/len(data)) for count in values)\n",
    "    return entropy_val\n",
    "\n",
    "target_entropy = entropy(data, 'play')\n",
    "print(\"Entropy (play):\", target_entropy)"
   ]
  },
  {
   "cell_type": "code",
   "execution_count": 4,
   "id": "96d5237a-800b-4eb9-b219-551e5e5f24ff",
   "metadata": {},
   "outputs": [
    {
     "name": "stdout",
     "output_type": "stream",
     "text": [
      "Information Gain for each feature: {'outlook': 0.24674981977443933, 'temp': 0.02922256565895487, 'humidity': 0.15183550136234159, 'windy': 0.04812703040826949}\n"
     ]
    }
   ],
   "source": [
    "def information_gain(data, split_column, target_column):\n",
    "    total_entropy = entropy(data, target_column)\n",
    "\n",
    "    values = data[split_column].unique()\n",
    "    weighted_entropy = 0\n",
    "    \n",
    "    for value in values:\n",
    "        subset = data[data[split_column] == value]\n",
    "        weight = len(subset) / len(data)\n",
    "        weighted_entropy += weight * entropy(subset, target_column)\n",
    "\n",
    "    info_gain = total_entropy - weighted_entropy\n",
    "    return info_gain\n",
    "\n",
    "gains = {col: information_gain(data, col, 'play') for col in data.columns if col != 'play'}\n",
    "print(\"Information Gain for each feature:\", gains)"
   ]
  },
  {
   "cell_type": "code",
   "execution_count": 5,
   "id": "5aee3782-b63f-4a2e-9f52-7a67921c7c4f",
   "metadata": {},
   "outputs": [
    {
     "name": "stdout",
     "output_type": "stream",
     "text": [
      "Best feature to split on: outlook\n"
     ]
    }
   ],
   "source": [
    "best_feature = max(gains, key=gains.get)\n",
    "print(\"Best feature to split on:\", best_feature)"
   ]
  },
  {
   "cell_type": "code",
   "execution_count": 6,
   "id": "6beee839-0fc8-401a-9cb3-0d73e8cee0c8",
   "metadata": {},
   "outputs": [
    {
     "name": "stdout",
     "output_type": "stream",
     "text": [
      "\n",
      "Subset for outlook = sunny\n",
      "Information Gain for each feature in subset: {'temp': 0.5709505944546686, 'humidity': 0.9709505944546686, 'windy': 0.01997309402197489}\n",
      "\n",
      "Subset for outlook = overcast\n",
      "Information Gain for each feature in subset: {'temp': -0.0, 'humidity': -0.0, 'windy': -0.0}\n",
      "\n",
      "Subset for outlook = rainy\n",
      "Information Gain for each feature in subset: {'temp': 0.01997309402197489, 'humidity': 0.01997309402197489, 'windy': 0.9709505944546686}\n"
     ]
    }
   ],
   "source": [
    "for value in data[best_feature].unique():\n",
    "    subset = data[data[best_feature] == value]\n",
    "    print(f\"\\nSubset for {best_feature} = {value}\")\n",
    "    subset_gains = {col: information_gain(subset, col, 'play') for col in subset.columns if col not in ['play', best_feature]}\n",
    "    print(\"Information Gain for each feature in subset:\", subset_gains)"
   ]
  },
  {
   "cell_type": "code",
   "execution_count": null,
   "id": "c2d84ae2-6f88-4f05-a574-44f09730c1fe",
   "metadata": {},
   "outputs": [],
   "source": []
  }
 ],
 "metadata": {
  "kernelspec": {
   "display_name": "Python 3 (ipykernel)",
   "language": "python",
   "name": "python3"
  },
  "language_info": {
   "codemirror_mode": {
    "name": "ipython",
    "version": 3
   },
   "file_extension": ".py",
   "mimetype": "text/x-python",
   "name": "python",
   "nbconvert_exporter": "python",
   "pygments_lexer": "ipython3",
   "version": "3.11.7"
  }
 },
 "nbformat": 4,
 "nbformat_minor": 5
}
